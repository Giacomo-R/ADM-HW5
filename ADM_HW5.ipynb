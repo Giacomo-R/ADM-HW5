{
 "cells": [
  {
   "cell_type": "code",
   "execution_count": 19,
   "metadata": {},
   "outputs": [],
   "source": [
    "import os\n",
    "import re\n",
    "import csv\n",
    "import pandas as pd\n",
    "import math as m\n",
    "import numpy as np\n",
    "import linecache\n",
    "import string\n",
    "import matplotlib.pylab as plt\n",
    "import datetime\n",
    "import random\n",
    "import seaborn as sns\n",
    "from tqdm import tqdm\n",
    "import matplotlib\n",
    "from collections import defaultdict"
   ]
  },
  {
   "cell_type": "markdown",
   "metadata": {},
   "source": [
    "## Data"
   ]
  },
  {
   "cell_type": "code",
   "execution_count": 2,
   "metadata": {},
   "outputs": [],
   "source": [
    "df = pd.read_csv('wikigraph_reduced.csv')"
   ]
  },
  {
   "cell_type": "code",
   "execution_count": 3,
   "metadata": {},
   "outputs": [
    {
     "data": {
      "text/html": [
       "<div>\n",
       "<style scoped>\n",
       "    .dataframe tbody tr th:only-of-type {\n",
       "        vertical-align: middle;\n",
       "    }\n",
       "\n",
       "    .dataframe tbody tr th {\n",
       "        vertical-align: top;\n",
       "    }\n",
       "\n",
       "    .dataframe thead th {\n",
       "        text-align: right;\n",
       "    }\n",
       "</style>\n",
       "<table border=\"1\" class=\"dataframe\">\n",
       "  <thead>\n",
       "    <tr style=\"text-align: right;\">\n",
       "      <th></th>\n",
       "      <th>edge</th>\n",
       "      <th>source</th>\n",
       "      <th>target</th>\n",
       "    </tr>\n",
       "  </thead>\n",
       "  <tbody>\n",
       "    <tr>\n",
       "      <th>0</th>\n",
       "      <td>796</td>\n",
       "      <td>95</td>\n",
       "      <td>1185516</td>\n",
       "    </tr>\n",
       "    <tr>\n",
       "      <th>1</th>\n",
       "      <td>909</td>\n",
       "      <td>108</td>\n",
       "      <td>1059989</td>\n",
       "    </tr>\n",
       "    <tr>\n",
       "      <th>2</th>\n",
       "      <td>910</td>\n",
       "      <td>108</td>\n",
       "      <td>1062426</td>\n",
       "    </tr>\n",
       "    <tr>\n",
       "      <th>3</th>\n",
       "      <td>911</td>\n",
       "      <td>108</td>\n",
       "      <td>1161925</td>\n",
       "    </tr>\n",
       "    <tr>\n",
       "      <th>4</th>\n",
       "      <td>1141</td>\n",
       "      <td>134</td>\n",
       "      <td>541222</td>\n",
       "    </tr>\n",
       "    <tr>\n",
       "      <th>5</th>\n",
       "      <td>1143</td>\n",
       "      <td>134</td>\n",
       "      <td>1061485</td>\n",
       "    </tr>\n",
       "    <tr>\n",
       "      <th>6</th>\n",
       "      <td>1146</td>\n",
       "      <td>134</td>\n",
       "      <td>1163610</td>\n",
       "    </tr>\n",
       "    <tr>\n",
       "      <th>7</th>\n",
       "      <td>1147</td>\n",
       "      <td>134</td>\n",
       "      <td>1163783</td>\n",
       "    </tr>\n",
       "    <tr>\n",
       "      <th>8</th>\n",
       "      <td>1309</td>\n",
       "      <td>153</td>\n",
       "      <td>744272</td>\n",
       "    </tr>\n",
       "    <tr>\n",
       "      <th>9</th>\n",
       "      <td>1311</td>\n",
       "      <td>153</td>\n",
       "      <td>1064807</td>\n",
       "    </tr>\n",
       "  </tbody>\n",
       "</table>\n",
       "</div>"
      ],
      "text/plain": [
       "   edge source   target\n",
       "0   796     95  1185516\n",
       "1   909    108  1059989\n",
       "2   910    108  1062426\n",
       "3   911    108  1161925\n",
       "4  1141    134   541222\n",
       "5  1143    134  1061485\n",
       "6  1146    134  1163610\n",
       "7  1147    134  1163783\n",
       "8  1309    153   744272\n",
       "9  1311    153  1064807"
      ]
     },
     "execution_count": 3,
     "metadata": {},
     "output_type": "execute_result"
    }
   ],
   "source": [
    "df = df['\\t0\\t1'].str.split('\\t', n=2, expand = True)\n",
    "df.rename(columns={0: \"edge\",1: \"source\", 2: \"target\"}, inplace = True)\n",
    "df.head(10)"
   ]
  },
  {
   "cell_type": "code",
   "execution_count": 4,
   "metadata": {},
   "outputs": [],
   "source": [
    "pages = pd.read_csv('wiki-topcats-page-names.txt', header = None, names = ['page'])\n",
    "pages = pages['page'].str.split(' ', n=1, expand = True)\n",
    "pages.drop(0,axis=1, inplace = True)\n",
    "pages.rename(columns={1:'pageName'},inplace=True)"
   ]
  },
  {
   "cell_type": "code",
   "execution_count": 5,
   "metadata": {},
   "outputs": [
    {
     "data": {
      "text/html": [
       "<div>\n",
       "<style scoped>\n",
       "    .dataframe tbody tr th:only-of-type {\n",
       "        vertical-align: middle;\n",
       "    }\n",
       "\n",
       "    .dataframe tbody tr th {\n",
       "        vertical-align: top;\n",
       "    }\n",
       "\n",
       "    .dataframe thead th {\n",
       "        text-align: right;\n",
       "    }\n",
       "</style>\n",
       "<table border=\"1\" class=\"dataframe\">\n",
       "  <thead>\n",
       "    <tr style=\"text-align: right;\">\n",
       "      <th></th>\n",
       "      <th>pageName</th>\n",
       "    </tr>\n",
       "  </thead>\n",
       "  <tbody>\n",
       "    <tr>\n",
       "      <th>0</th>\n",
       "      <td>Chiasmal syndrome</td>\n",
       "    </tr>\n",
       "    <tr>\n",
       "      <th>1</th>\n",
       "      <td>Kleroterion</td>\n",
       "    </tr>\n",
       "    <tr>\n",
       "      <th>2</th>\n",
       "      <td>Pinakion</td>\n",
       "    </tr>\n",
       "    <tr>\n",
       "      <th>3</th>\n",
       "      <td>LyndonHochschildSerre spectral sequence</td>\n",
       "    </tr>\n",
       "    <tr>\n",
       "      <th>4</th>\n",
       "      <td>Zariski's main theorem</td>\n",
       "    </tr>\n",
       "  </tbody>\n",
       "</table>\n",
       "</div>"
      ],
      "text/plain": [
       "                                  pageName\n",
       "0                        Chiasmal syndrome\n",
       "1                              Kleroterion\n",
       "2                                 Pinakion\n",
       "3  LyndonHochschildSerre spectral sequence\n",
       "4                   Zariski's main theorem"
      ]
     },
     "execution_count": 5,
     "metadata": {},
     "output_type": "execute_result"
    }
   ],
   "source": [
    "pages.head()"
   ]
  },
  {
   "cell_type": "code",
   "execution_count": 2,
   "metadata": {
    "scrolled": true
   },
   "outputs": [
    {
     "data": {
      "text/plain": [
       "'Category:Buprestoidea; 301 302 303 304 305 306 307 308 309 310 311 312 313 314 315 316 317 318 319 320 321 322 323 324 325 326 327 328 329 330 331 332 333 334 335 336 337 338 339 340 341 342 343 344 345 346 347 348 349 350 351 352 353 354 355 356 357 358 359 360 361 362 363 364 365 366 367 368 369 370 371 372 373 374 375 376 377 378 379 380 381 382 383 384 385 386 387 388 389 390 391 392 393 394 395 396 397 398 399 400 401 402 403 404 405 406 407 408 409 410 411 412 413 414 415 416 417 418 419 420 421 422 423 424 425 426 427 428 429 430 431 432 433 434 435 436 437 438 439 440 441 442 443 444 445 446 447 448 449 450 451 452 453 454 455 456 457 458 459 460 461 462 463 464 465 466 467 468 469 470 471 472 473 474 475 476 477 478 479 480 481 482 483 484 485 486 487 488 489 490 491 492 493 494 495 496 497 498 499 500 501 502 503 504 505 506 507 508 509 510 511 512 513 514 515 516 517 518 519 520 521 522 523 524 525 526 527 528 529 530 531 532 533 534 535 536 537 538 539 540 541 542 543 544 545 546 547 548 549 550 551 552 553 554 555 556 557 558 559 560 561 562 563 564 565 566 567 568 569 570 571 572 573 574 575 576 577 578 579 580 581 582 583 584 585 586 587 588 589 590 591 592 593 594 595 596 597 598 599 600 601 602 603 604 605 606 607 608 609 610 611 612 613 614 615 616 617 618 619 620 621 622 623 624 625 626 627 628 629 630 631 632 633 634 635 636 637 638 639 640 641 642 643 644 645 646 647 648 649 650 651 652 653 654 655 656 657 658 659 660 661 662 663 664 665 666 667 668 669 670 671 672 673 674 675 676 677 678 679 680 681 682 683 684 685 686 687 688 689 690 691 692 693 694 695 696 697 698 699 700 701 702 703 704 705 706 707 708 709 710 711 712 713 714 715 716 717 718 719 720 721 722 723 724 725 726 727 728 729 730 731 732 733 734 735 736 737 738 739 740 741 742 743 744 745 746 747 748 749 750 751 752 753 754 755 756 757 758 759 760 761 762 763 764 765 766 767 768 769 770 771 772 773 774 775 776 777 778 779 780 781 782 783 784 785 786 787 788 789 790 791 792 793 794 795 796 797 798 799 800 801 802 803 804 805 806 807 808 809 810 811 812 813 814 815 816 817 818 819 820 821 822 823 824 825 826 827 828 829 830 831 832 833 834 835 836 837 838 839 840 841 842 1791374'"
      ]
     },
     "execution_count": 2,
     "metadata": {},
     "output_type": "execute_result"
    }
   ],
   "source": [
    "file = open(\"wiki-topcats-categories.txt\", \"r\")\n",
    "contents = file.read()\n",
    "contents = contents.split(\"\\n\")\n",
    "file.close()"
   ]
  },
  {
   "cell_type": "markdown",
   "metadata": {},
   "source": [
    "## Initial Anlysis"
   ]
  },
  {
   "cell_type": "code",
   "execution_count": 3,
   "metadata": {},
   "outputs": [
    {
     "name": "stderr",
     "output_type": "stream",
     "text": [
      "100%|██████████| 17365/17365 [00:00<00:00, 28663.63it/s]\n"
     ]
    }
   ],
   "source": [
    "#dictionary that has for keys the category and for value the list of pages in that category\n",
    "dictionary_cat = {}\n",
    "\n",
    "for i in tqdm(range(len(contents))):\n",
    "    \n",
    "    temp = contents[i].split(\";\")    \n",
    "    if len(temp)>1:\n",
    "    \n",
    "        key = temp[0]\n",
    "        key = key[9::]\n",
    "        key\n",
    "\n",
    "        list_page_frcat = temp[1].split(\" \")\n",
    "        list_page_frcat = list_page_frcat[1::]\n",
    "        list_page_frcat\n",
    "\n",
    "        dictionary_cat[key] = list_page_frcat"
   ]
  },
  {
   "cell_type": "code",
   "execution_count": 4,
   "metadata": {},
   "outputs": [
    {
     "name": "stderr",
     "output_type": "stream",
     "text": [
      "100%|██████████| 17365/17365 [00:05<00:00, 3195.32it/s]\n"
     ]
    }
   ],
   "source": [
    "#dictionary that associates to each page, the list of categories that is in\n",
    "inverted_link = {}\n",
    "\n",
    "for i in tqdm(range (len(contents))):\n",
    "    \n",
    "    temp = contents[i].split(\";\")  \n",
    "    if len(temp)>1:\n",
    "        key = temp[0]\n",
    "        key = key[9::]\n",
    "        key\n",
    "\n",
    "        list_page_frcat = temp[1].split(\" \")\n",
    "        list_page_frcat = list_page_frcat[1::]\n",
    "        list_page_frcat\n",
    "\n",
    "        for x in list_page_frcat: \n",
    "\n",
    "            if x not in inverted_link.keys():             \n",
    "                inverted_link[x] = []\n",
    "                inverted_link[x].append(key)\n",
    "\n",
    "            else:\n",
    "                 inverted_link[x].append(key)"
   ]
  },
  {
   "cell_type": "code",
   "execution_count": 92,
   "metadata": {},
   "outputs": [
    {
     "name": "stdout",
     "output_type": "stream",
     "text": [
      "number of pages that appear in more than one category: 977014\n"
     ]
    }
   ],
   "source": [
    "#list that has all the pages that have are associated to more than 1 category\n",
    "key_list = []\n",
    "for key in inverted_link.keys():\n",
    "    if len(inverted_link[key])>1:\n",
    "        key_list.append(key)\n",
    "print(f'number of pages that appear in more than one category: {len(key_list)}')"
   ]
  },
  {
   "cell_type": "code",
   "execution_count": 8,
   "metadata": {},
   "outputs": [
    {
     "data": {
      "text/plain": [
       "['Buprestoidea', 'Insect_families']"
      ]
     },
     "execution_count": 8,
     "metadata": {},
     "output_type": "execute_result"
    }
   ],
   "source": [
    "inverted_link[\"303\"]"
   ]
  },
  {
   "cell_type": "code",
   "execution_count": 12,
   "metadata": {},
   "outputs": [],
   "source": [
    "#dictionary that shows the distribution of the pages in each category\n",
    "len_list = {}\n",
    "\n",
    "for key in key_list:     \n",
    "    lenght = len(inverted_link[key]) \n",
    "    \n",
    "    if lenght not in len_list.keys():             \n",
    "                len_list[lenght] = 1\n",
    "    else:\n",
    "        len_list[lenght] += 1"
   ]
  },
  {
   "cell_type": "code",
   "execution_count": 141,
   "metadata": {},
   "outputs": [
    {
     "data": {
      "text/plain": [
       "{2: 349893,\n",
       " 4: 132517,\n",
       " 3: 211504,\n",
       " 6: 60167,\n",
       " 7: 40023,\n",
       " 12: 6738,\n",
       " 9: 18802,\n",
       " 11: 9379,\n",
       " 13: 4912,\n",
       " 5: 89085,\n",
       " 8: 27118,\n",
       " 14: 3626,\n",
       " 10: 13315,\n",
       " 16: 1967,\n",
       " 18: 1051,\n",
       " 19: 724,\n",
       " 15: 2635,\n",
       " 22: 277,\n",
       " 21: 392,\n",
       " 17: 1471,\n",
       " 27: 63,\n",
       " 20: 577,\n",
       " 23: 250,\n",
       " 24: 156,\n",
       " 26: 97,\n",
       " 25: 109,\n",
       " 30: 23,\n",
       " 32: 11,\n",
       " 28: 44,\n",
       " 29: 35,\n",
       " 36: 3,\n",
       " 31: 23,\n",
       " 38: 3,\n",
       " 33: 8,\n",
       " 34: 9,\n",
       " 35: 3,\n",
       " 134: 1,\n",
       " 37: 1,\n",
       " 39: 1,\n",
       " 48: 1}"
      ]
     },
     "execution_count": 141,
     "metadata": {},
     "output_type": "execute_result"
    }
   ],
   "source": [
    "len_list"
   ]
  },
  {
   "cell_type": "code",
   "execution_count": 132,
   "metadata": {
    "scrolled": false
   },
   "outputs": [
    {
     "data": {
      "image/png": "[encoded data removed]",
      "text/plain": [
       "<Figure size 432x288 with 1 Axes>"
      ]
     },
     "metadata": {
      "needs_background": "light"
     },
     "output_type": "display_data"
    }
   ],
   "source": [
    "plt.bar(len_list.keys(), len_list.values(), width = 2.0, color='royalblue')\n",
    "plt.xlim = (0, 1.05*max(len_list.keys()))"
   ]
  },
  {
   "cell_type": "markdown",
   "metadata": {},
   "source": [
    "For every page in the inverted index (key) I uniformly choose at random the category in which belongs and I create a new dictionary where the categories are the keys and the pages in each category are the values."
   ]
  },
  {
   "cell_type": "code",
   "execution_count": 77,
   "metadata": {
    "scrolled": false
   },
   "outputs": [
    {
     "name": "stderr",
     "output_type": "stream",
     "text": [
      "100%|██████████| 1791490/1791490 [00:35<00:00, 51099.82it/s]\n"
     ]
    }
   ],
   "source": [
    "#final dictionary where the pages that appear in multiple categories are assigned to only one uniformly at random\n",
    "final_category_dict = dict.fromkeys(dictionary_cat.keys())\n",
    "\n",
    "for key,value in tqdm(inverted_link.items()):\n",
    "    category = str(*np.random.choice(value, size=1, replace=False, p= None))\n",
    "    if final_category_dict[category] == None:\n",
    "        final_category_dict[category] = [key]\n",
    "    else:\n",
    "        final_category_dict[category].append(key)    "
   ]
  },
  {
   "cell_type": "markdown",
   "metadata": {},
   "source": [
    "#### Trial to see if the above operation worked"
   ]
  },
  {
   "cell_type": "code",
   "execution_count": 85,
   "metadata": {},
   "outputs": [
    {
     "name": "stderr",
     "output_type": "stream",
     "text": [
      "100%|██████████| 17364/17364 [00:02<00:00, 7337.27it/s]\n"
     ]
    }
   ],
   "source": [
    "#dictionary that associates to each page, the list of categories that it is in\n",
    "inverted_link2 = {}\n",
    "\n",
    "for key,value in tqdm(final_category_dict.items()):\n",
    "    if value != None:\n",
    "\n",
    "        for elem in value: \n",
    "            if elem not in inverted_link2.keys():             \n",
    "                inverted_link2[elem] = []\n",
    "                inverted_link2[elem].append(key)\n",
    "\n",
    "            else:\n",
    "                inverted_link2[elem].append(key)"
   ]
  },
  {
   "cell_type": "code",
   "execution_count": 89,
   "metadata": {},
   "outputs": [
    {
     "data": {
      "text/plain": [
       "[]"
      ]
     },
     "execution_count": 89,
     "metadata": {},
     "output_type": "execute_result"
    }
   ],
   "source": [
    "key_list = []\n",
    "for key in inverted_link2.keys():\n",
    "    if len(inverted_link2[key])>1:\n",
    "        key_list.append(key)\n",
    "key_list"
   ]
  },
  {
   "cell_type": "markdown",
   "metadata": {},
   "source": [
    "This proves that now there are no pages that appear in multiple categories"
   ]
  },
  {
   "cell_type": "markdown",
   "metadata": {},
   "source": [
    "### RQ1. Build the graph G=(V, E)\n",
    "Provide its basic information:\n",
    "\n",
    "- Is the graph directed?\n",
    "- How many articles are we considering?\n",
    "- How many hyperlinks between pages exist?\n",
    "- Compute the average number of links in an arbitrary page. What is the graph density? Do you believe that the graph is dense or sparse? Is the graph dense?\n",
    "- Visualize the nodes' degree distribution"
   ]
  },
  {
   "cell_type": "code",
   "execution_count": null,
   "metadata": {},
   "outputs": [],
   "source": []
  },
  {
   "cell_type": "markdown",
   "metadata": {},
   "source": [
    "### RQ2. Function 1\n",
    "\n",
    "Define a function that takes in input:\n",
    "\n",
    "- A page *v*\n",
    "- A number of clicks *d*\n",
    "\n",
    "and returns the set of all pages that a user can reach within *d* clicks."
   ]
  },
  {
   "cell_type": "code",
   "execution_count": null,
   "metadata": {},
   "outputs": [],
   "source": []
  },
  {
   "cell_type": "markdown",
   "metadata": {},
   "source": [
    "### RQ3. Function 2\n",
    "\n",
    "Define a function that takes in input:\n",
    "\n",
    "- A category *C*\n",
    "- A set of pages in *C*, *p = {p1, ..., pn}*\n",
    "\n",
    "and returns the minimum number of clicks required to reach all pages in *p*, starting from the page *v*, corresponding to the most central article, according to the *in-degree* centrality, in *C*."
   ]
  },
  {
   "cell_type": "code",
   "execution_count": null,
   "metadata": {},
   "outputs": [],
   "source": []
  },
  {
   "cell_type": "markdown",
   "metadata": {},
   "source": [
    "### RQ4. Induced Subgraph\n",
    "\n",
    "Given in input two categories: C1 and C2, we get the subgraph induced by all the articles in the two categories.\n",
    "\n",
    "- Let *v* and *u* two arbitrary pages in the subgraph. What is the minimum set of hyperlinks one can remove to disconnect *u* and *v*?"
   ]
  },
  {
   "cell_type": "code",
   "execution_count": null,
   "metadata": {},
   "outputs": [],
   "source": []
  },
  {
   "cell_type": "markdown",
   "metadata": {},
   "source": [
    "### RQ5. Function 3\n",
    "\n",
    "Write a function that, given an arbitrary category C0 as input, returns the list of remaning categories sorted by their distance from C0. In particular, the distance between two categories is defined as  $distance(C0, Ci) = median(ShortestPath(C0, Ci))$ \n",
    "\n",
    "Where $ShortestPath(C0, Ci)$ is the set of shortest paths from each pair of nodes in the two categories."
   ]
  },
  {
   "cell_type": "code",
   "execution_count": null,
   "metadata": {},
   "outputs": [],
   "source": []
  },
  {
   "cell_type": "markdown",
   "metadata": {},
   "source": [
    "### RQ6. Function 4\n",
    "\n",
    "Write a function that sorts the categories in the graph according to their PageRank (PR). For this task you need to model the network of categories such that you can apply the PR algorithm"
   ]
  },
  {
   "cell_type": "code",
   "execution_count": null,
   "metadata": {},
   "outputs": [],
   "source": []
  }
 ],
 "metadata": {
  "kernelspec": {
   "display_name": "Python 3",
   "language": "python",
   "name": "python3"
  },
  "language_info": {
   "codemirror_mode": {
    "name": "ipython",
    "version": 3
   },
   "file_extension": ".py",
   "mimetype": "text/x-python",
   "name": "python",
   "nbconvert_exporter": "python",
   "pygments_lexer": "ipython3",
   "version": "3.8.3"
  }
 },
 "nbformat": 4,
 "nbformat_minor": 4
}
